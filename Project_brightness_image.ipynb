{
 "cells": [
  {
   "cell_type": "code",
   "execution_count": 1,
   "metadata": {},
   "outputs": [],
   "source": [
    "import cv2\n",
    "import numpy as np"
   ]
  },
  {
   "cell_type": "code",
   "execution_count": 2,
   "metadata": {},
   "outputs": [
    {
     "name": "stderr",
     "output_type": "stream",
     "text": [
      "qt.qpa.plugin: Could not find the Qt platform plugin \"wayland\" in \"/home/namhai18/.local/lib/python3.10/site-packages/cv2/qt/plugins\"\n"
     ]
    }
   ],
   "source": [
    "img = cv2.imread('images/cristianoronaldo.jpg')\n",
    "cv2.imshow('image', img)\n",
    "cv2.waitKey(0)\n",
    "cv2.destroyAllWindows()"
   ]
  },
  {
   "cell_type": "code",
   "execution_count": null,
   "metadata": {},
   "outputs": [],
   "source": [
    "def nothing(x):\n",
    "    pass \n",
    "cv2.namedWindow('Brightness Control')\n",
    "bright = cv2.createTrackbar('Brightness', 'Brightness Control', 75, 255, nothing)\n",
    "value = np.ones_like(img, dtype = 'uint8')\n",
    "\n",
    "while True:\n",
    "    bright = cv2.getTrackbarPos('Brightness', 'Brightness Control')\n",
    "    bar = bright - 127\n",
    "\n",
    "    if bar >= 0:\n",
    "        value = np.ones_like(img,dtype= 'uint8') * bar\n",
    "        img_crl = cv2.add(img, value)\n",
    "    else:\n",
    "        bright = 127 - bright\n",
    "        value = np.ones_like(img,dtype= 'uint8') * bright\n",
    "        img_crl = cv2.subtract(img, value)\n",
    "    cv2.imshow('Brightness Control', img_crl)\n",
    "\n",
    "    if cv2.waitKey(1) == ord('q'):\n",
    "        break\n",
    "cv2.destroyAllWindows()"
   ]
  },
  {
   "cell_type": "code",
   "execution_count": null,
   "metadata": {},
   "outputs": [],
   "source": []
  }
 ],
 "metadata": {
  "kernelspec": {
   "display_name": "Python 3",
   "language": "python",
   "name": "python3"
  },
  "language_info": {
   "codemirror_mode": {
    "name": "ipython",
    "version": 3
   },
   "file_extension": ".py",
   "mimetype": "text/x-python",
   "name": "python",
   "nbconvert_exporter": "python",
   "pygments_lexer": "ipython3",
   "version": "3.10.6"
  },
  "orig_nbformat": 4
 },
 "nbformat": 4,
 "nbformat_minor": 2
}
