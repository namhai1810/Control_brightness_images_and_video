{
 "cells": [
  {
   "cell_type": "code",
   "execution_count": 2,
   "metadata": {},
   "outputs": [],
   "source": [
    "import cv2\n",
    "import numpy as np\n",
    "import time"
   ]
  },
  {
   "cell_type": "code",
   "execution_count": 3,
   "metadata": {},
   "outputs": [],
   "source": [
    "def brightness_ctrl(img, bright):\n",
    "    if bright >= 0:\n",
    "        value = np.ones_like(img,dtype= 'uint8') * bright\n",
    "        img_crl = cv2.add(img, value)\n",
    "    else:\n",
    "        bright = 127 - bright\n",
    "        value = np.ones_like(img,dtype= 'uint8') * bright\n",
    "        img_crl = cv2.subtract(img, value)\n",
    "    return img_crl"
   ]
  },
  {
   "cell_type": "code",
   "execution_count": 9,
   "metadata": {},
   "outputs": [],
   "source": [
    "cap = cv2.VideoCapture('video/Shortvideo.mp4')\n",
    "\n",
    "def nothing(x):\n",
    "    pass \n",
    "cv2.namedWindow('Brightness Control')\n",
    "#Create Trackbar\n",
    "bright = cv2.createTrackbar('Brightness', 'Brightness Control', 75, 255, nothing)\n",
    "\n",
    "fps = 0 \n",
    "while True:\n",
    "    start_time = time.time()\n",
    "    ret, frame = cap.read()\n",
    "    if ret == False:\n",
    "        break\n",
    "    bright = cv2.getTrackbarPos('Brightness', 'Brightness Control')\n",
    "\n",
    "    img_crl = brightness_ctrl(frame,bright)\n",
    "\n",
    "    cv2.putText(img_crl, 'FPS : {:.0f}'.format(fps), (30,50), cv2.FONT_HERSHEY_SIMPLEX, 1.5,\n",
    "                 (0,255,0),3)\n",
    "    cv2.imshow('Brightness Control', img_crl)\n",
    "\n",
    "    if cv2.waitKey(41) == ord('q'):\n",
    "        break\n",
    "    time_taken = time.time() - start_time\n",
    "    fps = 1 / time_taken # frame per seconds\n",
    "    \n",
    "cap.release()\n",
    "cv2.destroyAllWindows()"
   ]
  },
  {
   "cell_type": "code",
   "execution_count": null,
   "metadata": {},
   "outputs": [],
   "source": []
  }
 ],
 "metadata": {
  "kernelspec": {
   "display_name": "Python 3",
   "language": "python",
   "name": "python3"
  },
  "language_info": {
   "codemirror_mode": {
    "name": "ipython",
    "version": 3
   },
   "file_extension": ".py",
   "mimetype": "text/x-python",
   "name": "python",
   "nbconvert_exporter": "python",
   "pygments_lexer": "ipython3",
   "version": "3.10.6"
  },
  "orig_nbformat": 4
 },
 "nbformat": 4,
 "nbformat_minor": 2
}
